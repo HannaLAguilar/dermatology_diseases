{
 "cells": [
  {
   "cell_type": "code",
   "execution_count": 1,
   "metadata": {},
   "outputs": [],
   "source": [
    "import pandas as pd\n",
    "import numpy as np\n",
    "import matplotlib.pyplot as plt\n",
    "%matplotlib inline\n",
    "from sklearn.cluster import KMeans\n",
    "from sklearn.preprocessing import StandardScaler\n",
    "from sklearn import metrics\n",
    "from sklearn.metrics import confusion_matrix\n",
    "from sklearn.cluster import DBSCAN \n",
    "from sklearn.cluster import SpectralClustering\n",
    "import itertools"
   ]
  },
  {
   "cell_type": "code",
   "execution_count": 2,
   "metadata": {},
   "outputs": [
    {
     "data": {
      "text/html": [
       "<div>\n",
       "<style scoped>\n",
       "    .dataframe tbody tr th:only-of-type {\n",
       "        vertical-align: middle;\n",
       "    }\n",
       "\n",
       "    .dataframe tbody tr th {\n",
       "        vertical-align: top;\n",
       "    }\n",
       "\n",
       "    .dataframe thead th {\n",
       "        text-align: right;\n",
       "    }\n",
       "</style>\n",
       "<table border=\"1\" class=\"dataframe\">\n",
       "  <thead>\n",
       "    <tr style=\"text-align: right;\">\n",
       "      <th></th>\n",
       "      <th>PRICE</th>\n",
       "      <th>MAINT</th>\n",
       "      <th>DOORS</th>\n",
       "      <th>PERSONS</th>\n",
       "      <th>SAFETY</th>\n",
       "      <th>CLASS</th>\n",
       "    </tr>\n",
       "  </thead>\n",
       "  <tbody>\n",
       "    <tr>\n",
       "      <th>0</th>\n",
       "      <td>40000</td>\n",
       "      <td>2000</td>\n",
       "      <td>2</td>\n",
       "      <td>2</td>\n",
       "      <td>low</td>\n",
       "      <td>unacc</td>\n",
       "    </tr>\n",
       "    <tr>\n",
       "      <th>1</th>\n",
       "      <td>30000</td>\n",
       "      <td>500</td>\n",
       "      <td>3</td>\n",
       "      <td>5</td>\n",
       "      <td>high</td>\n",
       "      <td>acc</td>\n",
       "    </tr>\n",
       "    <tr>\n",
       "      <th>2</th>\n",
       "      <td>10000</td>\n",
       "      <td>2000</td>\n",
       "      <td>5</td>\n",
       "      <td>4</td>\n",
       "      <td>high</td>\n",
       "      <td>acc</td>\n",
       "    </tr>\n",
       "    <tr>\n",
       "      <th>3</th>\n",
       "      <td>20000</td>\n",
       "      <td>1000</td>\n",
       "      <td>2</td>\n",
       "      <td>4</td>\n",
       "      <td>med</td>\n",
       "      <td>acc</td>\n",
       "    </tr>\n",
       "    <tr>\n",
       "      <th>4</th>\n",
       "      <td>40000</td>\n",
       "      <td>2000</td>\n",
       "      <td>5</td>\n",
       "      <td>2</td>\n",
       "      <td>high</td>\n",
       "      <td>unacc</td>\n",
       "    </tr>\n",
       "    <tr>\n",
       "      <th>5</th>\n",
       "      <td>30000</td>\n",
       "      <td>1000</td>\n",
       "      <td>4</td>\n",
       "      <td>2</td>\n",
       "      <td>high</td>\n",
       "      <td>unacc</td>\n",
       "    </tr>\n",
       "    <tr>\n",
       "      <th>6</th>\n",
       "      <td>30000</td>\n",
       "      <td>2000</td>\n",
       "      <td>3</td>\n",
       "      <td>4</td>\n",
       "      <td>high</td>\n",
       "      <td>unacc</td>\n",
       "    </tr>\n",
       "    <tr>\n",
       "      <th>7</th>\n",
       "      <td>20000</td>\n",
       "      <td>1500</td>\n",
       "      <td>2</td>\n",
       "      <td>2</td>\n",
       "      <td>med</td>\n",
       "      <td>unacc</td>\n",
       "    </tr>\n",
       "    <tr>\n",
       "      <th>8</th>\n",
       "      <td>10000</td>\n",
       "      <td>500</td>\n",
       "      <td>3</td>\n",
       "      <td>5</td>\n",
       "      <td>med</td>\n",
       "      <td>acc</td>\n",
       "    </tr>\n",
       "    <tr>\n",
       "      <th>9</th>\n",
       "      <td>40000</td>\n",
       "      <td>1000</td>\n",
       "      <td>2</td>\n",
       "      <td>4</td>\n",
       "      <td>high</td>\n",
       "      <td>acc</td>\n",
       "    </tr>\n",
       "  </tbody>\n",
       "</table>\n",
       "</div>"
      ],
      "text/plain": [
       "   PRICE  MAINT  DOORS  PERSONS SAFETY  CLASS\n",
       "0  40000   2000      2        2    low  unacc\n",
       "1  30000    500      3        5   high    acc\n",
       "2  10000   2000      5        4   high    acc\n",
       "3  20000   1000      2        4    med    acc\n",
       "4  40000   2000      5        2   high  unacc\n",
       "5  30000   1000      4        2   high  unacc\n",
       "6  30000   2000      3        4   high  unacc\n",
       "7  20000   1500      2        2    med  unacc\n",
       "8  10000    500      3        5    med    acc\n",
       "9  40000   1000      2        4   high    acc"
      ]
     },
     "execution_count": 2,
     "metadata": {},
     "output_type": "execute_result"
    }
   ],
   "source": [
    "df=pd.read_csv('small.csv')\n",
    "df"
   ]
  },
  {
   "cell_type": "markdown",
   "metadata": {},
   "source": [
    "# Exercici 1"
   ]
  },
  {
   "cell_type": "markdown",
   "metadata": {},
   "source": [
    "## Case 1: Label encoder SAFETY feature"
   ]
  },
  {
   "cell_type": "markdown",
   "metadata": {},
   "source": [
    "## a) Tractament previ de les dades: Categorical variables"
   ]
  },
  {
   "cell_type": "code",
   "execution_count": 23,
   "metadata": {},
   "outputs": [],
   "source": [
    "def labelencoder(filedf):\n",
    "\n",
    "    # Load small.csv as a pandas dataframe\n",
    "    df = pd.read_csv(filedf)\n",
    "    # Transforming categorical variables SAFETY and CLASS into numerical variable\n",
    "    safety = {'low':0,'med':1,'high':2}\n",
    "    df['SAFETY']=[safety[i] for i in df['SAFETY']]\n",
    "    clas = {'unacc':0,'acc':1}\n",
    "    df['CLASS']=[clas[i] for i in df['CLASS']] \n",
    "    # Saving dataframe as csv file\n",
    "    df.to_csv('small_.csv',index=False)"
   ]
  },
  {
   "cell_type": "markdown",
   "metadata": {},
   "source": [
    "### Visualization"
   ]
  },
  {
   "cell_type": "code",
   "execution_count": 24,
   "metadata": {},
   "outputs": [
    {
     "data": {
      "text/html": [
       "<div>\n",
       "<style scoped>\n",
       "    .dataframe tbody tr th:only-of-type {\n",
       "        vertical-align: middle;\n",
       "    }\n",
       "\n",
       "    .dataframe tbody tr th {\n",
       "        vertical-align: top;\n",
       "    }\n",
       "\n",
       "    .dataframe thead th {\n",
       "        text-align: right;\n",
       "    }\n",
       "</style>\n",
       "<table border=\"1\" class=\"dataframe\">\n",
       "  <thead>\n",
       "    <tr style=\"text-align: right;\">\n",
       "      <th></th>\n",
       "      <th>PRICE</th>\n",
       "      <th>MAINT</th>\n",
       "      <th>DOORS</th>\n",
       "      <th>PERSONS</th>\n",
       "      <th>SAFETY</th>\n",
       "      <th>CLASS</th>\n",
       "    </tr>\n",
       "  </thead>\n",
       "  <tbody>\n",
       "    <tr>\n",
       "      <th>0</th>\n",
       "      <td>40000</td>\n",
       "      <td>2000</td>\n",
       "      <td>2</td>\n",
       "      <td>2</td>\n",
       "      <td>0</td>\n",
       "      <td>0</td>\n",
       "    </tr>\n",
       "    <tr>\n",
       "      <th>1</th>\n",
       "      <td>30000</td>\n",
       "      <td>500</td>\n",
       "      <td>3</td>\n",
       "      <td>5</td>\n",
       "      <td>2</td>\n",
       "      <td>1</td>\n",
       "    </tr>\n",
       "    <tr>\n",
       "      <th>2</th>\n",
       "      <td>10000</td>\n",
       "      <td>2000</td>\n",
       "      <td>5</td>\n",
       "      <td>4</td>\n",
       "      <td>2</td>\n",
       "      <td>1</td>\n",
       "    </tr>\n",
       "    <tr>\n",
       "      <th>3</th>\n",
       "      <td>20000</td>\n",
       "      <td>1000</td>\n",
       "      <td>2</td>\n",
       "      <td>4</td>\n",
       "      <td>1</td>\n",
       "      <td>1</td>\n",
       "    </tr>\n",
       "    <tr>\n",
       "      <th>4</th>\n",
       "      <td>40000</td>\n",
       "      <td>2000</td>\n",
       "      <td>5</td>\n",
       "      <td>2</td>\n",
       "      <td>2</td>\n",
       "      <td>0</td>\n",
       "    </tr>\n",
       "    <tr>\n",
       "      <th>5</th>\n",
       "      <td>30000</td>\n",
       "      <td>1000</td>\n",
       "      <td>4</td>\n",
       "      <td>2</td>\n",
       "      <td>2</td>\n",
       "      <td>0</td>\n",
       "    </tr>\n",
       "    <tr>\n",
       "      <th>6</th>\n",
       "      <td>30000</td>\n",
       "      <td>2000</td>\n",
       "      <td>3</td>\n",
       "      <td>4</td>\n",
       "      <td>2</td>\n",
       "      <td>0</td>\n",
       "    </tr>\n",
       "    <tr>\n",
       "      <th>7</th>\n",
       "      <td>20000</td>\n",
       "      <td>1500</td>\n",
       "      <td>2</td>\n",
       "      <td>2</td>\n",
       "      <td>1</td>\n",
       "      <td>0</td>\n",
       "    </tr>\n",
       "    <tr>\n",
       "      <th>8</th>\n",
       "      <td>10000</td>\n",
       "      <td>500</td>\n",
       "      <td>3</td>\n",
       "      <td>5</td>\n",
       "      <td>1</td>\n",
       "      <td>1</td>\n",
       "    </tr>\n",
       "    <tr>\n",
       "      <th>9</th>\n",
       "      <td>40000</td>\n",
       "      <td>1000</td>\n",
       "      <td>2</td>\n",
       "      <td>4</td>\n",
       "      <td>2</td>\n",
       "      <td>1</td>\n",
       "    </tr>\n",
       "  </tbody>\n",
       "</table>\n",
       "</div>"
      ],
      "text/plain": [
       "   PRICE  MAINT  DOORS  PERSONS  SAFETY  CLASS\n",
       "0  40000   2000      2        2       0      0\n",
       "1  30000    500      3        5       2      1\n",
       "2  10000   2000      5        4       2      1\n",
       "3  20000   1000      2        4       1      1\n",
       "4  40000   2000      5        2       2      0\n",
       "5  30000   1000      4        2       2      0\n",
       "6  30000   2000      3        4       2      0\n",
       "7  20000   1500      2        2       1      0\n",
       "8  10000    500      3        5       1      1\n",
       "9  40000   1000      2        4       2      1"
      ]
     },
     "execution_count": 24,
     "metadata": {},
     "output_type": "execute_result"
    }
   ],
   "source": [
    "df_=pd.read_csv('small_.csv')\n",
    "df_"
   ]
  },
  {
   "cell_type": "markdown",
   "metadata": {},
   "source": [
    "## b) k-means "
   ]
  },
  {
   "cell_type": "markdown",
   "metadata": {},
   "source": [
    "### Function kmeans"
   ]
  },
  {
   "cell_type": "code",
   "execution_count": 25,
   "metadata": {},
   "outputs": [],
   "source": [
    "def kmeans(n_clusters,X):\n",
    "    \n",
    "    # Initial randoom centroids\n",
    "    rng = np.random.RandomState(2)\n",
    "    i = rng.permutation(X.shape[0])[:n_clusters]\n",
    "    centers = X[i]\n",
    "    \n",
    "    # Obtain Labels\n",
    "    while True:\n",
    "\n",
    "        a = []\n",
    "        b = []\n",
    "        labels = []\n",
    "        for i in X:\n",
    "            dc1=np.linalg.norm(centers[0]-i)\n",
    "            a.append(dc1)\n",
    "            dc2=np.linalg.norm(centers[1]-i)\n",
    "            b.append(dc2)\n",
    "\n",
    "        for j in range(len(a)):\n",
    "            if a[j]<b[j]:\n",
    "                labels.append(0)\n",
    "            else:\n",
    "                labels.append(1)\n",
    "        \n",
    "        # New centroids \n",
    "        new_centers = np.array([X[np.asarray(labels) == i].mean(0) for i in range(n_clusters)])\n",
    "        \n",
    "        # Convergence\n",
    "        if np.all(centers == new_centers):\n",
    "            break\n",
    "        centers = new_centers\n",
    "\n",
    "    return centers, labels"
   ]
  },
  {
   "cell_type": "markdown",
   "metadata": {},
   "source": [
    "### Functions"
   ]
  },
  {
   "cell_type": "code",
   "execution_count": 26,
   "metadata": {},
   "outputs": [],
   "source": [
    "def prepare_data(fileName):\n",
    "    \"\"\"Loads and prepares the data in fileName.\n",
    "    - The file must be CSV\n",
    "    - All fields must be integers\n",
    "    - First row is skipped\n",
    "    - Last column is ground truth (i.e. class)\n",
    "    - Standardization is performed to all data\"\"\"\n",
    "\n",
    "    # Load CSV file\n",
    "    inputData=np.loadtxt(open(fileName), delimiter=\",\", skiprows=1, dtype='int')\n",
    "    # Retrieve the samples (all but the last column)\n",
    "    sampleData=inputData[:,:-1]\n",
    "    # Get the classes (last column)\n",
    "    groundTruth=inputData[:,-1]\n",
    "    # Get means and standard deviations\n",
    "    theMeans=np.mean(sampleData,0)\n",
    "    theStd=np.std(sampleData,0)\n",
    "    # Return the standardized data and the ground truth\n",
    "    return [np.divide((sampleData-theMeans),theStd),groundTruth]\n",
    "\n",
    "def print_results(theClasses,theCentroids):\n",
    "    \"\"\"Prints the class members and centroids\"\"\"\n",
    "    # Get the existing classes\n",
    "    foundClasses=np.unique(theClasses)\n",
    "    numFoundClasses=foundClasses.shape[0]\n",
    "    # Allocte space\n",
    "    formattedClasses=[]\n",
    "    # For each found class\n",
    "    for i in range(numFoundClasses):\n",
    "        # Get the sample indexes+1 to print class members\n",
    "        cIndex=[j+1 for j,x in enumerate(theClasses) if x==foundClasses[i]]\n",
    "        # Print the members and the centroids\n",
    "        print (' - CLASS '+str(int(foundClasses[i]))+' MEMBERS        : '+str(cIndex))\n",
    "        print (' - CLASS '+str(int(foundClasses[i]))+' CENTROID       : '+str(theCentroids[i,:]))\n",
    "\n",
    "def get_accuracy(theClasses,groundTruth):\n",
    "    \"\"\"Computes the accuracy has the ratio between true estimates and total estimates\"\"\"\n",
    "    trueEstimates=np.count_nonzero((theClasses-groundTruth)==0)\n",
    "    totalEstimates=len(theClasses)\n",
    "    return float(trueEstimates)/float(totalEstimates)\n",
    "\n",
    "def print_final_results(theClasses,theCentroids,groundTruth):\n",
    "    \"\"\"Prints K-Means output and performance\"\"\"\n",
    "    print('[K-MEANS OUTPUT]')\n",
    "    print_results(theClasses,theCentroids)\n",
    "    print('[K-MEANS PERFORMANCE]')\n",
    "    print(' - ACCURACY               : '+str(100*get_accuracy(theClasses,groundTruth))+'%')\n"
   ]
  },
  {
   "cell_type": "markdown",
   "metadata": {},
   "source": [
    "### Input"
   ]
  },
  {
   "cell_type": "code",
   "execution_count": 27,
   "metadata": {},
   "outputs": [],
   "source": [
    "filedf='small.csv'\n",
    "fileName = 'small_.csv'\n",
    "n_clusters = 2"
   ]
  },
  {
   "cell_type": "markdown",
   "metadata": {},
   "source": [
    "### Output"
   ]
  },
  {
   "cell_type": "code",
   "execution_count": 271,
   "metadata": {},
   "outputs": [
    {
     "name": "stdout",
     "output_type": "stream",
     "text": [
      "[K-MEANS OUTPUT]\n",
      " - CLASS 0 MEMBERS        : [1, 3, 5, 6, 7]\n",
      " - CLASS 0 CENTROID       : [0.27 0.76 0.62 -0.50 0.15]\n",
      " - CLASS 1 MEMBERS        : [2, 4, 8, 9, 10]\n",
      " - CLASS 1 CENTROID       : [-0.27 -0.76 -0.62 0.50 -0.15]\n",
      "[K-MEANS PERFORMANCE]\n",
      " - ACCURACY               : 80.0%\n"
     ]
    }
   ],
   "source": [
    "def example():\n",
    "    \"\"\"Example\"\"\"\n",
    "    # Configure numpy print options\n",
    "    np.set_printoptions(formatter={'float':lambda x: '%.2f'%x})\n",
    "    # Load data. This assumes a CSV where all values are numeric, the last\n",
    "    # column denotes the classes (ground truth) and all sample data is\n",
    "    # pre-processed using standardization.\n",
    "    [sampleData,groundTruth]=prepare_data(fileName)\n",
    "    # Execute kmeans function with 2 clusters\n",
    "    centers, labels=kmeans(n_clusters,sampleData)\n",
    "    # Print results\n",
    "    print_final_results(labels,centers,groundTruth)\n",
    "\n",
    "example()"
   ]
  },
  {
   "cell_type": "markdown",
   "metadata": {},
   "source": [
    "## c) PCA"
   ]
  },
  {
   "cell_type": "markdown",
   "metadata": {},
   "source": [
    "### PCA Functions"
   ]
  },
  {
   "cell_type": "code",
   "execution_count": 272,
   "metadata": {},
   "outputs": [],
   "source": [
    "def pca(sampleData):\n",
    "    \"\"\"Aplies PCA to the provided data. Outputs the sorted eigenvalues\n",
    "    and eigenvectors.\"\"\"\n",
    "\n",
    "    # Standardize data\n",
    "    sampleData-=np.mean(sampleData,0)\n",
    "    sampleData/=np.std(sampleData,0)\n",
    "    # Get the covariance\n",
    "    numSamples=sampleData.shape[0]\n",
    "    theCovariance=np.dot(sampleData.T,sampleData)/numSamples\n",
    "    # Get eigenvalues and eigenvectors\n",
    "    [eigenValues,eigenVectors]=np.linalg.eigh(theCovariance)\n",
    "    # Sort them descending\n",
    "    iSort=np.argsort(eigenValues)[::-1]\n",
    "    [eigenValues,eigenVectors] = [eigenValues[iSort],eigenVectors[:,iSort]]\n",
    "    #outData=np.dot(sampleData,eigenVectors)\n",
    "    # Return the eigenvalues and vectors\n",
    "    return eigenValues,eigenVectors\n",
    "\n",
    "def get_explained_variance(eigenValues):\n",
    "    \"\"\"Outputs the cumulative variance\"\"\"\n",
    "\n",
    "    # The explained variance for each component is its eigenvalue divided\n",
    "    # by the sum of all eigenvectors. This code returns the cumulative\n",
    "    # sum of explained variances.\n",
    "    return np.cumsum(np.divide(eigenValues,np.sum(eigenValues)))\n"
   ]
  },
  {
   "cell_type": "markdown",
   "metadata": {},
   "source": [
    "### PCA"
   ]
  },
  {
   "cell_type": "code",
   "execution_count": 273,
   "metadata": {},
   "outputs": [
    {
     "name": "stdout",
     "output_type": "stream",
     "text": [
      "[PCA OUTPUT]\n",
      " - CUMULATIVE VARIANCES: [0.37 0.70 0.88 0.96 1.00]\n",
      " - VECTORS REQUIRED    : 4\n",
      " - PROJECTED ATTRIBUTES:\n",
      "[[-1.93 2.37 -0.33 -0.30]\n",
      " [1.65 -0.42 1.21 0.01]\n",
      " [0.14 -2.07 -1.64 -0.45]\n",
      " [1.07 1.11 -0.33 -0.06]\n",
      " [-2.16 -1.51 0.34 0.26]\n",
      " [-0.60 -0.80 0.46 1.31]\n",
      " [-0.38 -0.61 0.19 -1.18]\n",
      " [-0.50 1.23 -0.80 0.45]\n",
      " [2.36 0.37 -0.85 0.34]\n",
      " [0.36 0.32 1.74 -0.39]]\n"
     ]
    }
   ],
   "source": [
    "def example():\n",
    "    \"\"\"Loads example data (see prepare_data for format). Prints cumulative\n",
    "    variance and the projected attributes preserving 95% or more variance\"\"\"\n",
    "\n",
    "    # Load data\n",
    "    [sampleData,groundTruth]=prepare_data(fileName)\n",
    "    # Do PCA\n",
    "    [eigenValues,eigenVectors]=pca(sampleData)\n",
    "    # Get cumulative explained variances\n",
    "    explainedVariances=get_explained_variance(eigenValues)\n",
    "    # Get the number of vectors to reach 95%\n",
    "    numVectors=np.argmax(explainedVariances>.95)\n",
    "    # Build the new attribute set\n",
    "    projectedAttributes=np.dot(sampleData,eigenVectors[:,:numVectors+1])\n",
    "    # Print results\n",
    "    print('[PCA OUTPUT]')\n",
    "    print(' - CUMULATIVE VARIANCES: '+str(explainedVariances))\n",
    "    print(' - VECTORS REQUIRED    : '+str(numVectors+1))\n",
    "    print(' - PROJECTED ATTRIBUTES:\\n'+str(projectedAttributes))\n",
    "\n",
    "example()"
   ]
  },
  {
   "cell_type": "markdown",
   "metadata": {},
   "source": [
    "### kmeans: Usar *projectedAttributer* como *X* en la función *kmean(n_cluster, X)*"
   ]
  },
  {
   "cell_type": "code",
   "execution_count": 274,
   "metadata": {},
   "outputs": [
    {
     "name": "stdout",
     "output_type": "stream",
     "text": [
      "[K-MEANS OUTPUT]\n",
      " - CLASS 0 MEMBERS        : [1, 3, 5, 6, 7]\n",
      " - CLASS 0 CENTROID       : [-0.99 -0.52 -0.20 -0.07]\n",
      " - CLASS 1 MEMBERS        : [2, 4, 8, 9, 10]\n",
      " - CLASS 1 CENTROID       : [0.99 0.52 0.20 0.07]\n",
      "[K-MEANS PERFORMANCE]\n",
      " - ACCURACY               : 80.0%\n"
     ]
    }
   ],
   "source": [
    "def example():\n",
    "    \"\"\"Example\"\"\"\n",
    "    # Configure numpy print options\n",
    "    np.set_printoptions(formatter={'float':lambda x: '%.2f'%x})\n",
    "    # Load data. This assumes a CSV where all values are numeric, the last\n",
    "    # column denotes the classes (ground truth) and all sample data is\n",
    "    # pre-processed using standardization.    \n",
    "    # Load data\n",
    "    [sampleData,groundTruth]=prepare_data(fileName)\n",
    "    # Do PCA\n",
    "    [eigenValues,eigenVectors]=pca(sampleData)\n",
    "    # Get cumulative explained variances\n",
    "    explainedVariances=get_explained_variance(eigenValues)\n",
    "    # Get the number of vectors to reach 95%\n",
    "    numVectors=np.argmax(explainedVariances>.95)\n",
    "    # Build the new attribute set\n",
    "    projectedAttributes=np.dot(sampleData,eigenVectors[:,:numVectors+1])\n",
    "    # Execute kmeans function with 2 clusters\n",
    "    centers, labels=kmeans(n_clusters,projectedAttributes)\n",
    "    # Print results\n",
    "    print_final_results(labels,centers,groundTruth)\n",
    "              \n",
    "\n",
    "example()"
   ]
  },
  {
   "cell_type": "markdown",
   "metadata": {},
   "source": [
    "## Case 2: Drop SAFETY feature"
   ]
  },
  {
   "cell_type": "markdown",
   "metadata": {},
   "source": [
    "## a) Tractament previ de les dades: Remove SAFETY feature"
   ]
  },
  {
   "cell_type": "code",
   "execution_count": 275,
   "metadata": {},
   "outputs": [],
   "source": [
    "def labelencoder(filedf):\n",
    "\n",
    "    # Load small.csv as a pandas dataframe\n",
    "    df = pd.read_csv(filedf)\n",
    "    # RemoveSAFETY\n",
    "    df=df.drop(['SAFETY'],axis=1)\n",
    "     # Transforming categorical variable CLASS into numerical variable\n",
    "    clas = {'unacc':0,'acc':1}\n",
    "    df['CLASS']=[clas[i] for i in df['CLASS']]\n",
    "    # Saving dataframe as csv file\n",
    "    df.to_csv('small_2.csv',index=False)"
   ]
  },
  {
   "cell_type": "code",
   "execution_count": 276,
   "metadata": {},
   "outputs": [
    {
     "data": {
      "text/html": [
       "<div>\n",
       "<style scoped>\n",
       "    .dataframe tbody tr th:only-of-type {\n",
       "        vertical-align: middle;\n",
       "    }\n",
       "\n",
       "    .dataframe tbody tr th {\n",
       "        vertical-align: top;\n",
       "    }\n",
       "\n",
       "    .dataframe thead th {\n",
       "        text-align: right;\n",
       "    }\n",
       "</style>\n",
       "<table border=\"1\" class=\"dataframe\">\n",
       "  <thead>\n",
       "    <tr style=\"text-align: right;\">\n",
       "      <th></th>\n",
       "      <th>PRICE</th>\n",
       "      <th>MAINT</th>\n",
       "      <th>DOORS</th>\n",
       "      <th>PERSONS</th>\n",
       "      <th>CLASS</th>\n",
       "    </tr>\n",
       "  </thead>\n",
       "  <tbody>\n",
       "    <tr>\n",
       "      <th>0</th>\n",
       "      <td>40000</td>\n",
       "      <td>2000</td>\n",
       "      <td>2</td>\n",
       "      <td>2</td>\n",
       "      <td>0</td>\n",
       "    </tr>\n",
       "    <tr>\n",
       "      <th>1</th>\n",
       "      <td>30000</td>\n",
       "      <td>500</td>\n",
       "      <td>3</td>\n",
       "      <td>5</td>\n",
       "      <td>1</td>\n",
       "    </tr>\n",
       "    <tr>\n",
       "      <th>2</th>\n",
       "      <td>10000</td>\n",
       "      <td>2000</td>\n",
       "      <td>5</td>\n",
       "      <td>4</td>\n",
       "      <td>1</td>\n",
       "    </tr>\n",
       "    <tr>\n",
       "      <th>3</th>\n",
       "      <td>20000</td>\n",
       "      <td>1000</td>\n",
       "      <td>2</td>\n",
       "      <td>4</td>\n",
       "      <td>1</td>\n",
       "    </tr>\n",
       "    <tr>\n",
       "      <th>4</th>\n",
       "      <td>40000</td>\n",
       "      <td>2000</td>\n",
       "      <td>5</td>\n",
       "      <td>2</td>\n",
       "      <td>0</td>\n",
       "    </tr>\n",
       "    <tr>\n",
       "      <th>5</th>\n",
       "      <td>30000</td>\n",
       "      <td>1000</td>\n",
       "      <td>4</td>\n",
       "      <td>2</td>\n",
       "      <td>0</td>\n",
       "    </tr>\n",
       "    <tr>\n",
       "      <th>6</th>\n",
       "      <td>30000</td>\n",
       "      <td>2000</td>\n",
       "      <td>3</td>\n",
       "      <td>4</td>\n",
       "      <td>0</td>\n",
       "    </tr>\n",
       "    <tr>\n",
       "      <th>7</th>\n",
       "      <td>20000</td>\n",
       "      <td>1500</td>\n",
       "      <td>2</td>\n",
       "      <td>2</td>\n",
       "      <td>0</td>\n",
       "    </tr>\n",
       "    <tr>\n",
       "      <th>8</th>\n",
       "      <td>10000</td>\n",
       "      <td>500</td>\n",
       "      <td>3</td>\n",
       "      <td>5</td>\n",
       "      <td>1</td>\n",
       "    </tr>\n",
       "    <tr>\n",
       "      <th>9</th>\n",
       "      <td>40000</td>\n",
       "      <td>1000</td>\n",
       "      <td>2</td>\n",
       "      <td>4</td>\n",
       "      <td>1</td>\n",
       "    </tr>\n",
       "  </tbody>\n",
       "</table>\n",
       "</div>"
      ],
      "text/plain": [
       "   PRICE  MAINT  DOORS  PERSONS  CLASS\n",
       "0  40000   2000      2        2      0\n",
       "1  30000    500      3        5      1\n",
       "2  10000   2000      5        4      1\n",
       "3  20000   1000      2        4      1\n",
       "4  40000   2000      5        2      0\n",
       "5  30000   1000      4        2      0\n",
       "6  30000   2000      3        4      0\n",
       "7  20000   1500      2        2      0\n",
       "8  10000    500      3        5      1\n",
       "9  40000   1000      2        4      1"
      ]
     },
     "execution_count": 276,
     "metadata": {},
     "output_type": "execute_result"
    }
   ],
   "source": [
    "df_2 = pd.read_csv('small_2.csv')\n",
    "df_2"
   ]
  },
  {
   "cell_type": "markdown",
   "metadata": {},
   "source": [
    "## b) k-means "
   ]
  },
  {
   "cell_type": "markdown",
   "metadata": {},
   "source": [
    "### Input"
   ]
  },
  {
   "cell_type": "code",
   "execution_count": 277,
   "metadata": {},
   "outputs": [],
   "source": [
    "fileName = 'small_2.csv'"
   ]
  },
  {
   "cell_type": "markdown",
   "metadata": {},
   "source": [
    "### Output"
   ]
  },
  {
   "cell_type": "code",
   "execution_count": 278,
   "metadata": {},
   "outputs": [
    {
     "name": "stdout",
     "output_type": "stream",
     "text": [
      "[K-MEANS OUTPUT]\n",
      " - CLASS 0 MEMBERS        : [1, 3, 5, 6, 7, 8]\n",
      " - CLASS 0 CENTROID       : [0.12 0.67 0.35 -0.61]\n",
      " - CLASS 1 MEMBERS        : [2, 4, 9, 10]\n",
      " - CLASS 1 CENTROID       : [-0.18 -1.01 -0.53 0.92]\n",
      "[K-MEANS PERFORMANCE]\n",
      " - ACCURACY               : 90.0%\n"
     ]
    }
   ],
   "source": [
    "def example():\n",
    "    \"\"\"Example\"\"\"\n",
    "    # Configure numpy print options\n",
    "    np.set_printoptions(formatter={'float':lambda x: '%.2f'%x})\n",
    "    # Load data. This assumes a CSV where all values are numeric, the last\n",
    "    # column denotes the classes (ground truth) and all sample data is\n",
    "    # pre-processed using standardization.\n",
    "    [sampleData,groundTruth]=prepare_data(fileName)\n",
    "    # Execute kmeans function with 2 clusters\n",
    "    centers, labels=kmeans(n_clusters,sampleData)\n",
    "    # Print results\n",
    "    print_final_results(labels,centers,groundTruth)\n",
    "\n",
    "example()"
   ]
  },
  {
   "cell_type": "markdown",
   "metadata": {},
   "source": [
    "## c) PCA"
   ]
  },
  {
   "cell_type": "markdown",
   "metadata": {},
   "source": [
    "### PCA"
   ]
  },
  {
   "cell_type": "code",
   "execution_count": 279,
   "metadata": {},
   "outputs": [
    {
     "name": "stdout",
     "output_type": "stream",
     "text": [
      "[PCA OUTPUT]\n",
      " - CUMULATIVE VARIANCES: [0.47 0.76 0.90 1.00]\n",
      " - VECTORS REQUIRED    : 4\n",
      " - PROJECTED ATTRIBUTES:\n",
      "[[-1.70 1.28 -0.53 0.30]\n",
      " [1.59 0.41 1.09 0.12]\n",
      " [-0.03 -2.51 -0.40 0.43]\n",
      " [1.17 0.49 -0.58 -0.01]\n",
      " [-2.29 -0.78 0.95 -0.13]\n",
      " [-0.68 -0.17 0.54 -1.28]\n",
      " [-0.44 -0.12 -0.18 1.13]\n",
      " [-0.38 0.49 -1.39 -0.66]\n",
      " [2.40 -0.59 -0.12 -0.30]\n",
      " [0.36 1.50 0.62 0.41]]\n"
     ]
    }
   ],
   "source": [
    "def example():\n",
    "    \"\"\"Loads example data (see prepare_data for format). Prints cumulative\n",
    "    variance and the projected attributes preserving 95% or more variance\"\"\"\n",
    "\n",
    "    # Load data\n",
    "    [sampleData,groundTruth]=prepare_data(fileName)\n",
    "    # Do PCA\n",
    "    [eigenValues,eigenVectors]=pca(sampleData)\n",
    "    # Get cumulative explained variances\n",
    "    explainedVariances=get_explained_variance(eigenValues)\n",
    "    # Get the number of vectors to reach 95%\n",
    "    numVectors=np.argmax(explainedVariances>.95)\n",
    "    # Build the new attribute set\n",
    "    projectedAttributes=np.dot(sampleData,eigenVectors[:,:numVectors+1])\n",
    "    # Print results\n",
    "    print('[PCA OUTPUT]')\n",
    "    print(' - CUMULATIVE VARIANCES: '+str(explainedVariances))\n",
    "    print(' - VECTORS REQUIRED    : '+str(numVectors+1))\n",
    "    print(' - PROJECTED ATTRIBUTES:\\n'+str(projectedAttributes))\n",
    "\n",
    "example()"
   ]
  },
  {
   "cell_type": "code",
   "execution_count": 280,
   "metadata": {},
   "outputs": [],
   "source": [
    "# Load data\n",
    "[sampleData,groundTruth]=prepare_data(fileName)\n",
    "# Do PCA\n",
    "[eigenValues,eigenVectors]=pca(sampleData)\n",
    "# Get cumulative explained variances\n",
    "explainedVariances=get_explained_variance(eigenValues)\n",
    "# Get the number of vectors to reach 95%\n",
    "numVectors=np.argmax(explainedVariances>.95)\n",
    "# Build the new attribute set\n",
    "projectedAttributes=np.dot(sampleData,eigenVectors[:,:numVectors+1])"
   ]
  },
  {
   "cell_type": "code",
   "execution_count": 281,
   "metadata": {},
   "outputs": [
    {
     "data": {
      "text/html": [
       "<div>\n",
       "<style scoped>\n",
       "    .dataframe tbody tr th:only-of-type {\n",
       "        vertical-align: middle;\n",
       "    }\n",
       "\n",
       "    .dataframe tbody tr th {\n",
       "        vertical-align: top;\n",
       "    }\n",
       "\n",
       "    .dataframe thead th {\n",
       "        text-align: right;\n",
       "    }\n",
       "</style>\n",
       "<table border=\"1\" class=\"dataframe\">\n",
       "  <thead>\n",
       "    <tr style=\"text-align: right;\">\n",
       "      <th></th>\n",
       "      <th>PC1</th>\n",
       "      <th>PC2</th>\n",
       "      <th>PC3</th>\n",
       "      <th>PC4</th>\n",
       "    </tr>\n",
       "  </thead>\n",
       "  <tbody>\n",
       "    <tr>\n",
       "      <th>0</th>\n",
       "      <td>-1.697</td>\n",
       "      <td>1.282</td>\n",
       "      <td>-0.532</td>\n",
       "      <td>0.296</td>\n",
       "    </tr>\n",
       "    <tr>\n",
       "      <th>1</th>\n",
       "      <td>1.592</td>\n",
       "      <td>0.415</td>\n",
       "      <td>1.091</td>\n",
       "      <td>0.116</td>\n",
       "    </tr>\n",
       "    <tr>\n",
       "      <th>2</th>\n",
       "      <td>-0.027</td>\n",
       "      <td>-2.508</td>\n",
       "      <td>-0.399</td>\n",
       "      <td>0.428</td>\n",
       "    </tr>\n",
       "    <tr>\n",
       "      <th>3</th>\n",
       "      <td>1.166</td>\n",
       "      <td>0.490</td>\n",
       "      <td>-0.583</td>\n",
       "      <td>-0.009</td>\n",
       "    </tr>\n",
       "    <tr>\n",
       "      <th>4</th>\n",
       "      <td>-2.287</td>\n",
       "      <td>-0.781</td>\n",
       "      <td>0.946</td>\n",
       "      <td>-0.134</td>\n",
       "    </tr>\n",
       "    <tr>\n",
       "      <th>5</th>\n",
       "      <td>-0.678</td>\n",
       "      <td>-0.167</td>\n",
       "      <td>0.540</td>\n",
       "      <td>-1.277</td>\n",
       "    </tr>\n",
       "    <tr>\n",
       "      <th>6</th>\n",
       "      <td>-0.443</td>\n",
       "      <td>-0.124</td>\n",
       "      <td>-0.177</td>\n",
       "      <td>1.135</td>\n",
       "    </tr>\n",
       "    <tr>\n",
       "      <th>7</th>\n",
       "      <td>-0.383</td>\n",
       "      <td>0.489</td>\n",
       "      <td>-1.394</td>\n",
       "      <td>-0.662</td>\n",
       "    </tr>\n",
       "    <tr>\n",
       "      <th>8</th>\n",
       "      <td>2.401</td>\n",
       "      <td>-0.594</td>\n",
       "      <td>-0.116</td>\n",
       "      <td>-0.304</td>\n",
       "    </tr>\n",
       "    <tr>\n",
       "      <th>9</th>\n",
       "      <td>0.357</td>\n",
       "      <td>1.499</td>\n",
       "      <td>0.624</td>\n",
       "      <td>0.411</td>\n",
       "    </tr>\n",
       "  </tbody>\n",
       "</table>\n",
       "</div>"
      ],
      "text/plain": [
       "     PC1    PC2    PC3    PC4\n",
       "0 -1.697  1.282 -0.532  0.296\n",
       "1  1.592  0.415  1.091  0.116\n",
       "2 -0.027 -2.508 -0.399  0.428\n",
       "3  1.166  0.490 -0.583 -0.009\n",
       "4 -2.287 -0.781  0.946 -0.134\n",
       "5 -0.678 -0.167  0.540 -1.277\n",
       "6 -0.443 -0.124 -0.177  1.135\n",
       "7 -0.383  0.489 -1.394 -0.662\n",
       "8  2.401 -0.594 -0.116 -0.304\n",
       "9  0.357  1.499  0.624  0.411"
      ]
     },
     "execution_count": 281,
     "metadata": {},
     "output_type": "execute_result"
    }
   ],
   "source": [
    "df_pro = pd.DataFrame(projectedAttributes)\n",
    "df_pro.columns = ['PC1','PC2','PC3','PC4']\n",
    "\n",
    "round(df_pro,3)"
   ]
  },
  {
   "cell_type": "code",
   "execution_count": 282,
   "metadata": {},
   "outputs": [
    {
     "data": {
      "text/plain": [
       "([<matplotlib.axis.XTick at 0x7f678dd23a90>,\n",
       "  <matplotlib.axis.XTick at 0x7f678dd23438>,\n",
       "  <matplotlib.axis.XTick at 0x7f678dd0e6d8>,\n",
       "  <matplotlib.axis.XTick at 0x7f678dcdfcf8>],\n",
       " <a list of 4 Text xticklabel objects>)"
      ]
     },
     "execution_count": 282,
     "metadata": {},
     "output_type": "execute_result"
    },
    {
     "data": {
      "image/png": "[encoded data removed]",
      "text/plain": [
       "<Figure size 432x288 with 1 Axes>"
      ]
     },
     "metadata": {
      "needs_background": "light"
     },
     "output_type": "display_data"
    }
   ],
   "source": [
    "y = [0.47,0.76,0.90,1.00]\n",
    "ind = np.arange(4)\n",
    "\n",
    "import seaborn as sns\n",
    "plt.plot(y,marker='o',color='b')\n",
    "plt.xlabel('Principal components')\n",
    "plt.ylabel('Varianza acumulada')\n",
    "plt.xticks(ind, ('PC1', 'PC2', 'PC3', 'PC4'))"
   ]
  },
  {
   "cell_type": "markdown",
   "metadata": {},
   "source": [
    "### kmeans:  Usar *projectedAttributer* como *X* en la función *kmean(n_cluster, X)*"
   ]
  },
  {
   "cell_type": "code",
   "execution_count": 283,
   "metadata": {},
   "outputs": [
    {
     "name": "stdout",
     "output_type": "stream",
     "text": [
      "[K-MEANS OUTPUT]\n",
      " - CLASS 0 MEMBERS        : [1, 3, 5, 6, 7, 8]\n",
      " - CLASS 0 CENTROID       : [-0.92 -0.30 -0.17 -0.04]\n",
      " - CLASS 1 MEMBERS        : [2, 4, 9, 10]\n",
      " - CLASS 1 CENTROID       : [1.38 0.45 0.25 0.05]\n",
      "[K-MEANS PERFORMANCE]\n",
      " - ACCURACY               : 90.0%\n"
     ]
    }
   ],
   "source": [
    "def example():\n",
    "    \"\"\"Example\"\"\"\n",
    "    # Configure numpy print options\n",
    "    np.set_printoptions(formatter={'float':lambda x: '%.2f'%x})\n",
    "    # Load data. This assumes a CSV where all values are numeric, the last\n",
    "    # column denotes the classes (ground truth) and all sample data is\n",
    "    # pre-processed using standardization.    \n",
    "    # Load data\n",
    "    [sampleData,groundTruth]=prepare_data(fileName)\n",
    "    # Do PCA\n",
    "    [eigenValues,eigenVectors]=pca(sampleData)\n",
    "    # Get cumulative explained variances\n",
    "    explainedVariances=get_explained_variance(eigenValues)\n",
    "    # Get the number of vectors to reach 95%\n",
    "    numVectors=np.argmax(explainedVariances>.95)\n",
    "    # Build the new attribute set\n",
    "    projectedAttributes=np.dot(sampleData,eigenVectors[:,:numVectors+1])\n",
    "    # Execute kmeans function with 2 clusters\n",
    "    centers, labels=kmeans(n_clusters,projectedAttributes)\n",
    "    # Print results\n",
    "    print_final_results(labels,centers,groundTruth)\n",
    "              \n",
    "\n",
    "example()"
   ]
  },
  {
   "cell_type": "markdown",
   "metadata": {},
   "source": [
    "# Exercici 2"
   ]
  },
  {
   "cell_type": "code",
   "execution_count": 284,
   "metadata": {},
   "outputs": [],
   "source": [
    "X,groundTruth=prepare_data(fileName)"
   ]
  },
  {
   "cell_type": "code",
   "execution_count": 285,
   "metadata": {},
   "outputs": [
    {
     "data": {
      "text/plain": [
       "array([[1.18, 1.09, -0.97, -1.17],\n",
       "       [0.27, -1.43, -0.09, 1.33],\n",
       "       [-1.55, 1.09, 1.67, 0.50],\n",
       "       [-0.64, -0.59, -0.97, 0.50],\n",
       "       [1.18, 1.09, 1.67, -1.17],\n",
       "       [0.27, -0.59, 0.79, -1.17],\n",
       "       [0.27, 1.09, -0.09, 0.50],\n",
       "       [-0.64, 0.25, -0.97, -1.17],\n",
       "       [-1.55, -1.43, -0.09, 1.33],\n",
       "       [1.18, -0.59, -0.97, 0.50]])"
      ]
     },
     "execution_count": 285,
     "metadata": {},
     "output_type": "execute_result"
    }
   ],
   "source": [
    "X"
   ]
  },
  {
   "cell_type": "code",
   "execution_count": 286,
   "metadata": {},
   "outputs": [
    {
     "name": "stdout",
     "output_type": "stream",
     "text": [
      "0.9\n"
     ]
    }
   ],
   "source": [
    "# COMPROBAR CON SCIKI-LEARN EL CÓDIGO\n",
    "kmeans = KMeans(init='k-means++',n_clusters=2).fit(X)\n",
    "print(round(metrics.accuracy_score(groundTruth,kmeans.labels_),2))"
   ]
  },
  {
   "cell_type": "code",
   "execution_count": 287,
   "metadata": {},
   "outputs": [
    {
     "data": {
      "text/html": [
       "<div>\n",
       "<style scoped>\n",
       "    .dataframe tbody tr th:only-of-type {\n",
       "        vertical-align: middle;\n",
       "    }\n",
       "\n",
       "    .dataframe tbody tr th {\n",
       "        vertical-align: top;\n",
       "    }\n",
       "\n",
       "    .dataframe thead th {\n",
       "        text-align: right;\n",
       "    }\n",
       "</style>\n",
       "<table border=\"1\" class=\"dataframe\">\n",
       "  <thead>\n",
       "    <tr style=\"text-align: right;\">\n",
       "      <th></th>\n",
       "      <th>0</th>\n",
       "      <th>1</th>\n",
       "      <th>2</th>\n",
       "      <th>3</th>\n",
       "    </tr>\n",
       "  </thead>\n",
       "  <tbody>\n",
       "    <tr>\n",
       "      <th>0</th>\n",
       "      <td>1.182</td>\n",
       "      <td>1.095</td>\n",
       "      <td>-0.968</td>\n",
       "      <td>-1.167</td>\n",
       "    </tr>\n",
       "    <tr>\n",
       "      <th>1</th>\n",
       "      <td>0.273</td>\n",
       "      <td>-1.432</td>\n",
       "      <td>-0.088</td>\n",
       "      <td>1.333</td>\n",
       "    </tr>\n",
       "    <tr>\n",
       "      <th>2</th>\n",
       "      <td>-1.545</td>\n",
       "      <td>1.095</td>\n",
       "      <td>1.673</td>\n",
       "      <td>0.500</td>\n",
       "    </tr>\n",
       "    <tr>\n",
       "      <th>3</th>\n",
       "      <td>-0.636</td>\n",
       "      <td>-0.590</td>\n",
       "      <td>-0.968</td>\n",
       "      <td>0.500</td>\n",
       "    </tr>\n",
       "    <tr>\n",
       "      <th>4</th>\n",
       "      <td>1.182</td>\n",
       "      <td>1.095</td>\n",
       "      <td>1.673</td>\n",
       "      <td>-1.167</td>\n",
       "    </tr>\n",
       "    <tr>\n",
       "      <th>5</th>\n",
       "      <td>0.273</td>\n",
       "      <td>-0.590</td>\n",
       "      <td>0.792</td>\n",
       "      <td>-1.167</td>\n",
       "    </tr>\n",
       "    <tr>\n",
       "      <th>6</th>\n",
       "      <td>0.273</td>\n",
       "      <td>1.095</td>\n",
       "      <td>-0.088</td>\n",
       "      <td>0.500</td>\n",
       "    </tr>\n",
       "    <tr>\n",
       "      <th>7</th>\n",
       "      <td>-0.636</td>\n",
       "      <td>0.253</td>\n",
       "      <td>-0.968</td>\n",
       "      <td>-1.167</td>\n",
       "    </tr>\n",
       "    <tr>\n",
       "      <th>8</th>\n",
       "      <td>-1.545</td>\n",
       "      <td>-1.432</td>\n",
       "      <td>-0.088</td>\n",
       "      <td>1.333</td>\n",
       "    </tr>\n",
       "    <tr>\n",
       "      <th>9</th>\n",
       "      <td>1.182</td>\n",
       "      <td>-0.590</td>\n",
       "      <td>-0.968</td>\n",
       "      <td>0.500</td>\n",
       "    </tr>\n",
       "  </tbody>\n",
       "</table>\n",
       "</div>"
      ],
      "text/plain": [
       "       0      1      2      3\n",
       "0  1.182  1.095 -0.968 -1.167\n",
       "1  0.273 -1.432 -0.088  1.333\n",
       "2 -1.545  1.095  1.673  0.500\n",
       "3 -0.636 -0.590 -0.968  0.500\n",
       "4  1.182  1.095  1.673 -1.167\n",
       "5  0.273 -0.590  0.792 -1.167\n",
       "6  0.273  1.095 -0.088  0.500\n",
       "7 -0.636  0.253 -0.968 -1.167\n",
       "8 -1.545 -1.432 -0.088  1.333\n",
       "9  1.182 -0.590 -0.968  0.500"
      ]
     },
     "execution_count": 287,
     "metadata": {},
     "output_type": "execute_result"
    }
   ],
   "source": [
    "df_x=pd.DataFrame(X)\n",
    "round(df_x,3)"
   ]
  },
  {
   "cell_type": "code",
   "execution_count": 288,
   "metadata": {},
   "outputs": [],
   "source": [
    "# FÓRMULA PARA HALLAR LAS DISTANCIAS\n",
    "a = []\n",
    "c1 = [-0.455,-0.590,-0.088,0.833]\n",
    "c2= [0.455,0.590,0.088,-0.833]\n",
    "\n",
    "for i in range(len(X-1)):\n",
    "    dis=np.linalg.norm(c2-X[i])\n",
    "    a.append(dis)"
   ]
  },
  {
   "cell_type": "code",
   "execution_count": 289,
   "metadata": {},
   "outputs": [
    {
     "data": {
      "text/plain": [
       "[1.4179571286968629,\n",
       " 2.973939722974347,\n",
       " 2.9232342928895063,\n",
       " 2.3399535456207095,\n",
       " 1.845586480379988,\n",
       " 1.425475205688085,\n",
       " 1.4477308915716738,\n",
       " 1.5913515733446428,\n",
       " 3.579512888258268,\n",
       " 2.193757661709141]"
      ]
     },
     "execution_count": 289,
     "metadata": {},
     "output_type": "execute_result"
    }
   ],
   "source": [
    "a"
   ]
  },
  {
   "cell_type": "markdown",
   "metadata": {},
   "source": [
    "# Exercici 3"
   ]
  },
  {
   "cell_type": "code",
   "execution_count": 3,
   "metadata": {},
   "outputs": [
    {
     "data": {
      "text/html": [
       "<div>\n",
       "<style scoped>\n",
       "    .dataframe tbody tr th:only-of-type {\n",
       "        vertical-align: middle;\n",
       "    }\n",
       "\n",
       "    .dataframe tbody tr th {\n",
       "        vertical-align: top;\n",
       "    }\n",
       "\n",
       "    .dataframe thead th {\n",
       "        text-align: right;\n",
       "    }\n",
       "</style>\n",
       "<table border=\"1\" class=\"dataframe\">\n",
       "  <thead>\n",
       "    <tr style=\"text-align: right;\">\n",
       "      <th></th>\n",
       "      <th>PRICE</th>\n",
       "      <th>MAINT</th>\n",
       "      <th>DOORS</th>\n",
       "      <th>PERSONS</th>\n",
       "      <th>SAFETY</th>\n",
       "      <th>CLASS</th>\n",
       "    </tr>\n",
       "  </thead>\n",
       "  <tbody>\n",
       "    <tr>\n",
       "      <th>0</th>\n",
       "      <td>40000</td>\n",
       "      <td>2000</td>\n",
       "      <td>2</td>\n",
       "      <td>2</td>\n",
       "      <td>low</td>\n",
       "      <td>unacc</td>\n",
       "    </tr>\n",
       "    <tr>\n",
       "      <th>1</th>\n",
       "      <td>40000</td>\n",
       "      <td>2000</td>\n",
       "      <td>2</td>\n",
       "      <td>2</td>\n",
       "      <td>med</td>\n",
       "      <td>unacc</td>\n",
       "    </tr>\n",
       "    <tr>\n",
       "      <th>2</th>\n",
       "      <td>40000</td>\n",
       "      <td>2000</td>\n",
       "      <td>2</td>\n",
       "      <td>2</td>\n",
       "      <td>high</td>\n",
       "      <td>unacc</td>\n",
       "    </tr>\n",
       "    <tr>\n",
       "      <th>3</th>\n",
       "      <td>40000</td>\n",
       "      <td>2000</td>\n",
       "      <td>2</td>\n",
       "      <td>2</td>\n",
       "      <td>low</td>\n",
       "      <td>unacc</td>\n",
       "    </tr>\n",
       "    <tr>\n",
       "      <th>4</th>\n",
       "      <td>40000</td>\n",
       "      <td>2000</td>\n",
       "      <td>2</td>\n",
       "      <td>2</td>\n",
       "      <td>med</td>\n",
       "      <td>unacc</td>\n",
       "    </tr>\n",
       "  </tbody>\n",
       "</table>\n",
       "</div>"
      ],
      "text/plain": [
       "   PRICE  MAINT  DOORS  PERSONS SAFETY  CLASS\n",
       "0  40000   2000      2        2    low  unacc\n",
       "1  40000   2000      2        2    med  unacc\n",
       "2  40000   2000      2        2   high  unacc\n",
       "3  40000   2000      2        2    low  unacc\n",
       "4  40000   2000      2        2    med  unacc"
      ]
     },
     "execution_count": 3,
     "metadata": {},
     "output_type": "execute_result"
    }
   ],
   "source": [
    "df_car = pd.read_csv('car.csv')\n",
    "df_car.head()"
   ]
  },
  {
   "cell_type": "markdown",
   "metadata": {},
   "source": [
    "## Pre-processing"
   ]
  },
  {
   "cell_type": "code",
   "execution_count": 4,
   "metadata": {},
   "outputs": [],
   "source": [
    "# RemoveSAFETY\n",
    "df_car=df_car.drop(['SAFETY'],axis=1)\n",
    "\n",
    "# Transforming categorical variable CLASS into numerical variable\n",
    "clas = {'unacc':0,'acc':1}\n",
    "df_car['CLASS']=[clas[i] for i in df_car['CLASS']]\n",
    "\n",
    "# Int into float\n",
    "df_car=df_car.astype(float)\n",
    "\n",
    "# Features: X has to be in numpy, so use '.values'\n",
    "X=df_car[['PRICE','MAINT','DOORS','PERSONS']].values\n",
    "\n",
    "# Standardization\n",
    "data_clus = StandardScaler().fit_transform(X)"
   ]
  },
  {
   "cell_type": "code",
   "execution_count": 5,
   "metadata": {},
   "outputs": [
    {
     "data": {
      "text/plain": [
       "(1728, 5)"
      ]
     },
     "execution_count": 5,
     "metadata": {},
     "output_type": "execute_result"
    }
   ],
   "source": [
    "df_car.shape"
   ]
  },
  {
   "cell_type": "code",
   "execution_count": 6,
   "metadata": {},
   "outputs": [
    {
     "data": {
      "text/plain": [
       "array([[ 1.34164079,  1.34164079, -1.34164079, -1.33630621],\n",
       "       [ 1.34164079,  1.34164079, -1.34164079, -1.33630621],\n",
       "       [ 1.34164079,  1.34164079, -1.34164079, -1.33630621],\n",
       "       [ 1.34164079,  1.34164079, -1.34164079, -1.33630621],\n",
       "       [ 1.34164079,  1.34164079, -1.34164079, -1.33630621]])"
      ]
     },
     "execution_count": 6,
     "metadata": {},
     "output_type": "execute_result"
    }
   ],
   "source": [
    "data_clus[:5]"
   ]
  },
  {
   "cell_type": "markdown",
   "metadata": {},
   "source": [
    "## a) initial centroids: kmeans++"
   ]
  },
  {
   "cell_type": "code",
   "execution_count": 15,
   "metadata": {},
   "outputs": [
    {
     "name": "stdout",
     "output_type": "stream",
     "text": [
      "Train set Accuracy:  0.63\n"
     ]
    }
   ],
   "source": [
    "# Run the model\n",
    "k_means_car1 = KMeans(init='k-means++',n_clusters=2).fit(data_clus)\n",
    "\n",
    "# Get labels \n",
    "labels = k_means_car1.labels_\n",
    "\n",
    "# Accuracy\n",
    "print(\"Train set Accuracy: \", round(metrics.accuracy_score(df_car['CLASS'],labels),2))"
   ]
  },
  {
   "cell_type": "code",
   "execution_count": 16,
   "metadata": {},
   "outputs": [],
   "source": [
    "y_test=df_car['CLASS'] \n",
    "yhat=labels"
   ]
  },
  {
   "cell_type": "code",
   "execution_count": 17,
   "metadata": {},
   "outputs": [
    {
     "name": "stdout",
     "output_type": "stream",
     "text": [
      "Confusion matrix, without normalization\n",
      "[[576 634]\n",
      " [  0 518]]\n"
     ]
    },
    {
     "data": {
      "image/png": "[encoded data removed]",
      "text/plain": [
       "<Figure size 432x288 with 2 Axes>"
      ]
     },
     "metadata": {
      "needs_background": "light"
     },
     "output_type": "display_data"
    }
   ],
   "source": [
    "import itertools\n",
    "def plot_confusion_matrix(cm, classes,\n",
    "                          normalize=False,\n",
    "                          title='Confusion matrix',\n",
    "                          cmap=plt.cm.Blues):\n",
    "    \"\"\"\n",
    "    This function prints and plots the confusion matrix.\n",
    "    Normalization can be applied by setting `normalize=True`.\n",
    "    \"\"\"\n",
    "    if normalize:\n",
    "        cm = cm.astype('float') / cm.sum(axis=1)[:, np.newaxis]\n",
    "        print(\"Normalized confusion matrix\")\n",
    "    else:\n",
    "        print('Confusion matrix, without normalization')\n",
    "\n",
    "    print(cm)\n",
    "\n",
    "    plt.imshow(cm, interpolation='nearest', cmap=cmap)\n",
    "    plt.title(title)\n",
    "    plt.colorbar()\n",
    "    tick_marks = np.arange(len(classes))\n",
    "    plt.xticks(tick_marks, classes, rotation=45)\n",
    "    plt.yticks(tick_marks, classes)\n",
    "\n",
    "    fmt = '.2f' if normalize else 'd'\n",
    "    thresh = cm.max() / 2.\n",
    "    for i, j in itertools.product(range(cm.shape[0]), range(cm.shape[1])):\n",
    "        plt.text(j, i, format(cm[i, j], fmt),\n",
    "                 horizontalalignment=\"center\",\n",
    "                 color=\"white\" if cm[i, j] > thresh else \"black\")\n",
    "\n",
    "    plt.tight_layout()\n",
    "    plt.ylabel('True label')\n",
    "    plt.xlabel('Predicted label')\n",
    "\n",
    "    \n",
    "cnf_matrix = confusion_matrix(y_test, yhat, labels=[0,1])\n",
    "np.set_printoptions(precision=2)\n",
    "\n",
    "plt.figure()\n",
    "plot_confusion_matrix(cnf_matrix, classes=['unacc=0','acc=1'],normalize= False,title='Confusion matrix')"
   ]
  },
  {
   "cell_type": "markdown",
   "metadata": {},
   "source": [
    "## b) initial centroids: random"
   ]
  },
  {
   "cell_type": "code",
   "execution_count": 20,
   "metadata": {},
   "outputs": [
    {
     "name": "stdout",
     "output_type": "stream",
     "text": [
      "Train set Accuracy:  0.63\n"
     ]
    }
   ],
   "source": [
    "# Run the model\n",
    "k_means_car2 = KMeans(init='random',n_clusters=2, random_state=0).fit(data_clus)\n",
    "\n",
    "# Get labels \n",
    "labels_2 = k_means_car2.labels_\n",
    "\n",
    "# Accuracy\n",
    "print(\"Train set Accuracy: \", round(metrics.accuracy_score(df_car['CLASS'],labels_2),2))"
   ]
  },
  {
   "cell_type": "code",
   "execution_count": 21,
   "metadata": {},
   "outputs": [],
   "source": [
    "y_test=df_car['CLASS'] \n",
    "yhat=labels_2"
   ]
  },
  {
   "cell_type": "code",
   "execution_count": 22,
   "metadata": {},
   "outputs": [
    {
     "name": "stdout",
     "output_type": "stream",
     "text": [
      "Confusion matrix, without normalization\n",
      "[[576 634]\n",
      " [  0 518]]\n"
     ]
    },
    {
     "data": {
      "image/png": "[encoded data removed]",
      "text/plain": [
       "<Figure size 432x288 with 2 Axes>"
      ]
     },
     "metadata": {
      "needs_background": "light"
     },
     "output_type": "display_data"
    }
   ],
   "source": [
    "\n",
    "def plot_confusion_matrix(cm, classes,\n",
    "                          normalize=False,\n",
    "                          title='Confusion matrix',\n",
    "                          cmap=plt.cm.Reds):\n",
    "    \"\"\"\n",
    "    This function prints and plots the confusion matrix.\n",
    "    Normalization can be applied by setting `normalize=True`.\n",
    "    \"\"\"\n",
    "    if normalize:\n",
    "        cm = cm.astype('float') / cm.sum(axis=1)[:, np.newaxis]\n",
    "        print(\"Normalized confusion matrix\")\n",
    "    else:\n",
    "        print('Confusion matrix, without normalization')\n",
    "\n",
    "    print(cm)\n",
    "\n",
    "    plt.imshow(cm, interpolation='nearest', cmap=cmap)\n",
    "    plt.title(title)\n",
    "    plt.colorbar()\n",
    "    tick_marks = np.arange(len(classes))\n",
    "    plt.xticks(tick_marks, classes, rotation=45)\n",
    "    plt.yticks(tick_marks, classes)\n",
    "\n",
    "    fmt = '.2f' if normalize else 'd'\n",
    "    thresh = cm.max() / 2.\n",
    "    for i, j in itertools.product(range(cm.shape[0]), range(cm.shape[1])):\n",
    "        plt.text(j, i, format(cm[i, j], fmt),\n",
    "                 horizontalalignment=\"center\",\n",
    "                 color=\"white\" if cm[i, j] > thresh else \"black\")\n",
    "\n",
    "    plt.tight_layout()\n",
    "    plt.ylabel('True label')\n",
    "    plt.xlabel('Predicted label')\n",
    "\n",
    "    \n",
    "cnf_matrix = confusion_matrix(y_test, yhat, labels=[0,1])\n",
    "np.set_printoptions(precision=2)\n",
    "\n",
    "plt.figure()\n",
    "plot_confusion_matrix(cnf_matrix, classes=['unacc=0','acc=1'],normalize= False,title='Confusion matrix')"
   ]
  },
  {
   "cell_type": "markdown",
   "metadata": {},
   "source": [
    "## c) Density-Based Clusterin DBSCAN"
   ]
  },
  {
   "cell_type": "code",
   "execution_count": 302,
   "metadata": {},
   "outputs": [
    {
     "data": {
      "text/plain": [
       "array([0, 0, 0, ..., 1, 1, 1])"
      ]
     },
     "execution_count": 302,
     "metadata": {},
     "output_type": "execute_result"
    }
   ],
   "source": [
    "# Run the model\n",
    "epsilon = 0.9\n",
    "minimumSamples = 5\n",
    "\n",
    "db = DBSCAN(eps=epsilon, min_samples=minimumSamples).fit(data_clus)\n",
    "\n",
    "#Get labels\n",
    "labels_3 = db.labels_\n",
    "labels_3"
   ]
  },
  {
   "cell_type": "code",
   "execution_count": 303,
   "metadata": {},
   "outputs": [
    {
     "data": {
      "text/plain": [
       "{0, 1}"
      ]
     },
     "execution_count": 303,
     "metadata": {},
     "output_type": "execute_result"
    }
   ],
   "source": [
    "unique_labels = set(labels_3)\n",
    "unique_labels"
   ]
  },
  {
   "cell_type": "code",
   "execution_count": 304,
   "metadata": {},
   "outputs": [
    {
     "name": "stdout",
     "output_type": "stream",
     "text": [
      "Train set Accuracy:  0.63\n"
     ]
    }
   ],
   "source": [
    "print(\"Train set Accuracy: \", round(metrics.accuracy_score(df_car['CLASS'],labels_3),2))"
   ]
  },
  {
   "cell_type": "code",
   "execution_count": 305,
   "metadata": {},
   "outputs": [],
   "source": [
    "y_test=df_car['CLASS'] \n",
    "yhat=labels_3"
   ]
  },
  {
   "cell_type": "code",
   "execution_count": 306,
   "metadata": {},
   "outputs": [
    {
     "name": "stdout",
     "output_type": "stream",
     "text": [
      "Confusion matrix, without normalization\n",
      "[[576 634]\n",
      " [  0 518]]\n"
     ]
    },
    {
     "data": {
      "image/png": "[encoded data removed]",
      "text/plain": [
       "<Figure size 432x288 with 2 Axes>"
      ]
     },
     "metadata": {
      "needs_background": "light"
     },
     "output_type": "display_data"
    }
   ],
   "source": [
    "def plot_confusion_matrix(cm, classes,\n",
    "                          normalize=False,\n",
    "                          title='Confusion matrix',\n",
    "                          cmap=plt.cm.BuPu):\n",
    "    \"\"\"\n",
    "    This function prints and plots the confusion matrix.\n",
    "    Normalization can be applied by setting `normalize=True`.\n",
    "    \"\"\"\n",
    "    if normalize:\n",
    "        cm = cm.astype('float') / cm.sum(axis=1)[:, np.newaxis]\n",
    "        print(\"Normalized confusion matrix\")\n",
    "    else:\n",
    "        print('Confusion matrix, without normalization')\n",
    "\n",
    "    print(cm)\n",
    "\n",
    "    plt.imshow(cm, interpolation='nearest', cmap=cmap)\n",
    "    plt.title(title)\n",
    "    plt.colorbar()\n",
    "    tick_marks = np.arange(len(classes))\n",
    "    plt.xticks(tick_marks, classes, rotation=45)\n",
    "    plt.yticks(tick_marks, classes)\n",
    "\n",
    "    fmt = '.2f' if normalize else 'd'\n",
    "    thresh = cm.max() / 2.\n",
    "    for i, j in itertools.product(range(cm.shape[0]), range(cm.shape[1])):\n",
    "        plt.text(j, i, format(cm[i, j], fmt),\n",
    "                 horizontalalignment=\"center\",\n",
    "                 color=\"white\" if cm[i, j] > thresh else \"black\")\n",
    "\n",
    "    plt.tight_layout()\n",
    "    plt.ylabel('True label')\n",
    "    plt.xlabel('Predicted label')\n",
    "\n",
    "    \n",
    "cnf_matrix = confusion_matrix(y_test, yhat, labels=[0,1])\n",
    "np.set_printoptions(precision=2)\n",
    "\n",
    "plt.figure()\n",
    "plot_confusion_matrix(cnf_matrix, classes=['unacc=0','acc=1'],normalize= False,title='Confusion matrix')"
   ]
  },
  {
   "cell_type": "markdown",
   "metadata": {},
   "source": [
    "## d) Spectral Clustering"
   ]
  },
  {
   "cell_type": "code",
   "execution_count": 307,
   "metadata": {},
   "outputs": [
    {
     "name": "stdout",
     "output_type": "stream",
     "text": [
      "Train set Accuracy:  0.63\n"
     ]
    }
   ],
   "source": [
    "# Run the model\n",
    "sc = SpectralClustering (n_clusters=2).fit(data_clus)\n",
    "\n",
    "# Get labels\n",
    "labels_3=sc.labels_\n",
    "# Accuracy\n",
    "\n",
    "print(\"Train set Accuracy: \", round(metrics.accuracy_score(df_car['CLASS'],labels_3),2))"
   ]
  },
  {
   "cell_type": "code",
   "execution_count": 308,
   "metadata": {},
   "outputs": [],
   "source": [
    "y_test=df_car['CLASS'] \n",
    "yhat=labels_3"
   ]
  },
  {
   "cell_type": "code",
   "execution_count": 309,
   "metadata": {},
   "outputs": [
    {
     "name": "stdout",
     "output_type": "stream",
     "text": [
      "Confusion matrix, without normalization\n",
      "[[576 634]\n",
      " [  0 518]]\n"
     ]
    },
    {
     "data": {
      "image/png": "[encoded data removed]",
      "text/plain": [
       "<Figure size 432x288 with 2 Axes>"
      ]
     },
     "metadata": {
      "needs_background": "light"
     },
     "output_type": "display_data"
    }
   ],
   "source": [
    "def plot_confusion_matrix(cm, classes,\n",
    "                          normalize=False,\n",
    "                          title='Confusion matrix',\n",
    "                          cmap=plt.cm.Greens):\n",
    "    \"\"\"\n",
    "    This function prints and plots the confusion matrix.\n",
    "    Normalization can be applied by setting `normalize=True`.\n",
    "    \"\"\"\n",
    "    if normalize:\n",
    "        cm = cm.astype('float') / cm.sum(axis=1)[:, np.newaxis]\n",
    "        print(\"Normalized confusion matrix\")\n",
    "    else:\n",
    "        print('Confusion matrix, without normalization')\n",
    "\n",
    "    print(cm)\n",
    "\n",
    "    plt.imshow(cm, interpolation='nearest', cmap=cmap)\n",
    "    plt.title(title)\n",
    "    plt.colorbar()\n",
    "    tick_marks = np.arange(len(classes))\n",
    "    plt.xticks(tick_marks, classes, rotation=45)\n",
    "    plt.yticks(tick_marks, classes)\n",
    "\n",
    "    fmt = '.2f' if normalize else 'd'\n",
    "    thresh = cm.max() / 2.\n",
    "    for i, j in itertools.product(range(cm.shape[0]), range(cm.shape[1])):\n",
    "        plt.text(j, i, format(cm[i, j], fmt),\n",
    "                 horizontalalignment=\"center\",\n",
    "                 color=\"white\" if cm[i, j] > thresh else \"black\")\n",
    "\n",
    "    plt.tight_layout()\n",
    "    plt.ylabel('True label')\n",
    "    plt.xlabel('Predicted label')\n",
    "\n",
    "    \n",
    "cnf_matrix = confusion_matrix(y_test, yhat, labels=[0,1])\n",
    "np.set_printoptions(precision=2)\n",
    "\n",
    "plt.figure()\n",
    "plot_confusion_matrix(cnf_matrix, classes=['unacc=0','acc=1'],normalize= False,title='Confusion matrix')"
   ]
  },
  {
   "cell_type": "code",
   "execution_count": null,
   "metadata": {},
   "outputs": [],
   "source": []
  }
 ],
 "metadata": {
  "kernelspec": {
   "display_name": "Python 3",
   "language": "python",
   "name": "python3"
  },
  "language_info": {
   "codemirror_mode": {
    "name": "ipython",
    "version": 3
   },
   "file_extension": ".py",
   "mimetype": "text/x-python",
   "name": "python",
   "nbconvert_exporter": "python",
   "pygments_lexer": "ipython3",
   "version": "3.7.4"
  }
 },
 "nbformat": 4,
 "nbformat_minor": 2
}
